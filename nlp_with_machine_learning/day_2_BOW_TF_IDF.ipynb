{
 "cells": [
  {
   "cell_type": "markdown",
   "id": "9edd9e7a",
   "metadata": {},
   "source": [
    "# Term Frequency and Inverse Document Frequency\n",
    "1. sentence 1. good boy\n",
    "2. sentence 2. good girl\n",
    "3. sentence 3. boy girl good\n",
    "- we have to see the rare words and this rare word must be given higher weightage when we are creating the vectors. This rare word is capturing by TF and common word is capture by IDF. When we combined both TF  and IDF we will be able to find out the most rare words that is present in the documents.\n"
   ]
  },
  {
   "cell_type": "code",
   "execution_count": null,
   "id": "47cb9bb0",
   "metadata": {},
   "outputs": [],
   "source": []
  }
 ],
 "metadata": {
  "kernelspec": {
   "display_name": "Python 3 (ipykernel)",
   "language": "python",
   "name": "python3"
  },
  "language_info": {
   "codemirror_mode": {
    "name": "ipython",
    "version": 3
   },
   "file_extension": ".py",
   "mimetype": "text/x-python",
   "name": "python",
   "nbconvert_exporter": "python",
   "pygments_lexer": "ipython3",
   "version": "3.7.13"
  }
 },
 "nbformat": 4,
 "nbformat_minor": 5
}
